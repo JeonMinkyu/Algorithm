{
 "cells": [
  {
   "cell_type": "markdown",
   "metadata": {},
   "source": [
    "# 1. 13171"
   ]
  },
  {
   "cell_type": "code",
   "execution_count": 70,
   "metadata": {},
   "outputs": [],
   "source": [
    "A = 100\n",
    "X = 100\n",
    "mod = 1000000007\n",
    "total = 1\n",
    "t = 1"
   ]
  },
  {
   "cell_type": "code",
   "execution_count": 71,
   "metadata": {},
   "outputs": [],
   "source": [
    "# 이진수 구하기(역순 그대로 사용하면 됨)\n",
    "indices=[]\n",
    "i=1\n",
    "x=X\n",
    "if x%2==1: #첫번째\n",
    "    indices.append(2**0)\n",
    "\n",
    "while x>1:\n",
    "    x = x//2\n",
    "    if x%2 == 1:\n",
    "        indices.append(2**i)\n",
    "    i=i+1\n"
   ]
  },
  {
   "cell_type": "code",
   "execution_count": 3,
   "metadata": {},
   "outputs": [],
   "source": [
    "A_dic = {}\n",
    "x=1\n",
    "per_A = A\n",
    "t = 1\n",
    "for indice in indices:\n",
    "    t = indice//t\n",
    "    per_A = per_A**t\n",
    "    A_dic[indice]=per_A\n",
    "    t = indice"
   ]
  },
  {
   "cell_type": "code",
   "execution_count": 4,
   "metadata": {},
   "outputs": [
    {
     "name": "stdout",
     "output_type": "stream",
     "text": [
      "424090053\n"
     ]
    }
   ],
   "source": [
    "for indice in indices:\n",
    "    out = A_dic[indice]%mod\n",
    "    total = total*out\n",
    "print(total%mod)"
   ]
  },
  {
   "cell_type": "code",
   "execution_count": 112,
   "metadata": {},
   "outputs": [
    {
     "name": "stdout",
     "output_type": "stream",
     "text": [
      "424090053\n"
     ]
    }
   ],
   "source": [
    "import sys\n",
    "\n",
    "A = int(sys.stdin.readline())\n",
    "X = int(sys.stdin.readline())\n",
    "\n",
    "mod = 1000000007\n",
    "total=1\n",
    "binary_list = []\n",
    "\n",
    "binary_list.append(X%2)\n",
    "while X>1:\n",
    "    X = X//2\n",
    "    binary_list.append(X%2)\n",
    "    \n",
    "for i in binary_list:\n",
    "    if i==1:\n",
    "        total = total*A%mod\n",
    "    A=A*A%mod\n",
    "print(total)"
   ]
  },
  {
   "cell_type": "markdown",
   "metadata": {},
   "source": [
    "# 2. Sigma"
   ]
  },
  {
   "cell_type": "code",
   "execution_count": 1,
   "metadata": {},
   "outputs": [
    {
     "name": "stdin",
     "output_type": "stream",
     "text": [
      " 1\n",
      " 3 7\n"
     ]
    }
   ],
   "source": [
    "M=int(input())\n",
    "lst = [[],[]]\n",
    "for i in range(M):\n",
    "    N, S = map(int,input().split()) #분모 N, 분자 S\n",
    "    lst[0].append(N)\n",
    "    lst[1].append(S)"
   ]
  },
  {
   "cell_type": "code",
   "execution_count": 2,
   "metadata": {},
   "outputs": [],
   "source": [
    "mom = lst[0]\n",
    "son = lst[1]\n",
    "mod = 1000000007"
   ]
  },
  {
   "cell_type": "markdown",
   "metadata": {},
   "source": [
    "##### 기댓값들 다 더해서 통분"
   ]
  },
  {
   "cell_type": "code",
   "execution_count": 3,
   "metadata": {},
   "outputs": [],
   "source": [
    "#통분하기 위해 최소공배수로 분모 통일\n",
    "#최소공배수 구하기\n",
    "\n",
    "def gcd(a,b):\n",
    "    if a<b:\n",
    "        a,b = b,a\n",
    "    if b==0:\n",
    "        return a\n",
    "    if a%b == 0:\n",
    "        return b\n",
    "    else:\n",
    "        return gcd(b,a%b)\n",
    "\n",
    "def lcm(a,b):\n",
    "    return a*b//gcd(a,b)"
   ]
  },
  {
   "cell_type": "code",
   "execution_count": 4,
   "metadata": {},
   "outputs": [],
   "source": [
    "def make_numer_and_denom(son,mom,M): #통분한 분모,분자 만들기\n",
    "    numer=0\n",
    "    denom=mom[0]\n",
    "    for i in range(M):\n",
    "        denom = lcm(denom,mom[i])    \n",
    "    \n",
    "    for i in range(M):\n",
    "        numer += son[i]*denom//mom[i]\n",
    "    return denom, numer"
   ]
  },
  {
   "cell_type": "code",
   "execution_count": 5,
   "metadata": {},
   "outputs": [],
   "source": [
    "b,a = make_numer_and_denom(son,mom,M) #b:분모, a:분자"
   ]
  },
  {
   "cell_type": "code",
   "execution_count": 190,
   "metadata": {},
   "outputs": [],
   "source": [
    "def result(numer,denom):\n",
    "    gcd_val = gcd(denom,numer)\n",
    "\n",
    "    if gcd_val==1: #기약분수라면\n",
    "        return ((numer%mod)*pow(denom,mod-2,mod))%mod\n",
    "    else : #아니면 기약분수로\n",
    "        denom = denom//gcd_val\n",
    "        numer = numer//gcd_val\n",
    "        return ((numer%mod)*pow(denom,mod-2,mod))%mod"
   ]
  },
  {
   "cell_type": "code",
   "execution_count": 6,
   "metadata": {},
   "outputs": [],
   "source": [
    "def A(A,X,mod):\n",
    "    total=1\n",
    "    binary_list = []\n",
    "\n",
    "    binary_list.append(X%2)\n",
    "    while X>1:\n",
    "        X = X//2\n",
    "        binary_list.append(X%2)\n",
    "\n",
    "    for i in binary_list:\n",
    "        if i==1:\n",
    "            total = total*A%mod\n",
    "        A=A*A%mod\n",
    "    return total #A^X를 mod로 나눈 나머지"
   ]
  },
  {
   "cell_type": "code",
   "execution_count": 7,
   "metadata": {},
   "outputs": [],
   "source": [
    "def result(numer,denom):\n",
    "    gcd_val = gcd(denom,numer)\n",
    "    pow_result=A(denom,mod-2,mod)\n",
    "    print(((numer%mod)*pow_result)%mod)\n",
    "    "
   ]
  },
  {
   "cell_type": "code",
   "execution_count": 8,
   "metadata": {},
   "outputs": [
    {
     "name": "stdout",
     "output_type": "stream",
     "text": [
      "333333338\n"
     ]
    }
   ],
   "source": [
    "result(a,b)"
   ]
  },
  {
   "cell_type": "markdown",
   "metadata": {},
   "source": [
    "# 3. 이항계수 3"
   ]
  },
  {
   "cell_type": "code",
   "execution_count": 203,
   "metadata": {},
   "outputs": [],
   "source": [
    "N=5\n",
    "K=2\n",
    "mod = 1000000007"
   ]
  },
  {
   "cell_type": "code",
   "execution_count": 204,
   "metadata": {},
   "outputs": [],
   "source": [
    "def factorial(n):\n",
    "    if n==1:\n",
    "        return n\n",
    "    else:\n",
    "        return n*factorial(n-1)"
   ]
  },
  {
   "cell_type": "code",
   "execution_count": 205,
   "metadata": {},
   "outputs": [],
   "source": [
    "a = factorial(N)\n",
    "b = factorial(K)*factorial(N-K)"
   ]
  },
  {
   "cell_type": "code",
   "execution_count": null,
   "metadata": {},
   "outputs": [],
   "source": [
    "for (int i=1; i<m; i++) {\n",
    "    if ((a*i) % m == 1) {\n",
    "        x = i;\n",
    "    }\n",
    "}"
   ]
  },
  {
   "cell_type": "code",
   "execution_count": 207,
   "metadata": {},
   "outputs": [
    {
     "data": {
      "text/plain": [
       "10"
      ]
     },
     "execution_count": 207,
     "metadata": {},
     "output_type": "execute_result"
    }
   ],
   "source": [
    "((a%mod)*pow(b,mod-2,mod))%mod"
   ]
  },
  {
   "cell_type": "code",
   "execution_count": null,
   "metadata": {},
   "outputs": [],
   "source": []
  }
 ],
 "metadata": {
  "kernelspec": {
   "display_name": "Python 3",
   "language": "python",
   "name": "python3"
  },
  "language_info": {
   "codemirror_mode": {
    "name": "ipython",
    "version": 3
   },
   "file_extension": ".py",
   "mimetype": "text/x-python",
   "name": "python",
   "nbconvert_exporter": "python",
   "pygments_lexer": "ipython3",
   "version": "3.6.7"
  }
 },
 "nbformat": 4,
 "nbformat_minor": 2
}
