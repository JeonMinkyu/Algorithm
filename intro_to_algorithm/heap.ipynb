{
 "cells": [
  {
   "cell_type": "markdown",
   "metadata": {},
   "source": [
    "## Heap Operation"
   ]
  },
  {
   "cell_type": "markdown",
   "metadata": {},
   "source": [
    "- build_max_heap : produce a max-heap from unordered array  \n",
    "- max_heapify : correct a single violation of the heap propery in a subtree at its root  \n",
    "\n",
    "\n"
   ]
  },
  {
   "cell_type": "code",
   "execution_count": 8,
   "metadata": {},
   "outputs": [],
   "source": [
    "class MaxHeap():\n",
    "    def __init__(self):\n",
    "        self.queue = []\n",
    "    \n",
    "    def insert(self, n):\n",
    "        self.queue.append(n)\n",
    "        last_index = len(self.queue)-1\n",
    "        \n",
    "        while last_index>=0:\n",
    "            parent_index = self.parent(last_index)\n",
    "            if parent_index>=0 and self.queue[parent_index] < self.queue[last_index]:\n",
    "                self.swap(last_index, parent_index)\n",
    "            else:\n",
    "                break\n",
    "    \n",
    "    def delete(self):\n",
    "        last_index = len(self.queue)-1\n",
    "        if last_index < 0:\n",
    "            return -1\n",
    "        \n",
    "        self.swap(0,last_index)\n",
    "        maxv = self.queue.pop()\n",
    "        self.maxheapify(0) #root 부터 재 정렬\n",
    "        print(maxv)\n",
    "        return maxv\n",
    "    \n",
    "    def maxheapify(self,i):\n",
    "        left_index = self.leftchild(i)\n",
    "        right_index = self.rightchild(i)\n",
    "        max_index = i\n",
    "        \n",
    "        if left_index <= len(self.queue)-1 and self.queue[max_index]<self.queue[left_index]:\n",
    "            max_index = left_index\n",
    "        if right_index <= len(self.queue)-1 and self.queue[max_index] < self.queue[right_index]:\n",
    "            max_index = right_index\n",
    "            \n",
    "        if max_index != i:\n",
    "            self.swap(i,max_index)\n",
    "            self.maxheapify(max_index)\n",
    "    \n",
    "    def swap(self, i, parent_index):\n",
    "        self.queue[i], self.queue[parent_index] = self.queue[parent_index], self.queue[i]\n",
    "        \n",
    "    def parent(self, index):\n",
    "        return (index-1)//2\n",
    "    \n",
    "    def leftchild(self, index):\n",
    "        return index*2+1\n",
    "    \n",
    "    def rightchild(self, index):\n",
    "        return index*2+2\n",
    "    \n",
    "    def printheap(self):\n",
    "        print(self.queue)      \n",
    "                "
   ]
  },
  {
   "cell_type": "code",
   "execution_count": 9,
   "metadata": {},
   "outputs": [],
   "source": [
    "mh = MaxHeap()"
   ]
  },
  {
   "cell_type": "code",
   "execution_count": 10,
   "metadata": {},
   "outputs": [
    {
     "name": "stdout",
     "output_type": "stream",
     "text": [
      "[11, 6, 3, 1, 5, 2]\n"
     ]
    }
   ],
   "source": [
    "mh.insert(1)\n",
    "mh.insert(3)\n",
    "mh.insert(11)\n",
    "mh.insert(6)\n",
    "mh.insert(5)\n",
    "mh.insert(2)\n",
    "mh.printheap()"
   ]
  },
  {
   "cell_type": "code",
   "execution_count": 11,
   "metadata": {},
   "outputs": [
    {
     "name": "stdout",
     "output_type": "stream",
     "text": [
      "11\n",
      "[6, 5, 3, 1, 2]\n",
      "6\n",
      "[5, 2, 3, 1]\n"
     ]
    }
   ],
   "source": [
    "mh.delete()\n",
    "mh.printheap()\n",
    "mh.delete()\n",
    "mh.printheap()"
   ]
  },
  {
   "cell_type": "code",
   "execution_count": 1,
   "metadata": {},
   "outputs": [],
   "source": [
    "def heapify(arr, index, heap_size):\n",
    "    maxindex = index\n",
    "    left_index = 2*index+1\n",
    "    right_index = 2*index+2\n",
    "    \n",
    "    if left_index < heap_size and arr[left_index] > arr[largest]: #왼쪽 자식노드가 부모노드보다 크다면\n",
    "        maxindex = left_index #바꾸기 위해\n",
    "    if right_index < heap_size and arr[right_index] > arr[largest]: #오른쪽 자식노드가 부모보다 크다면\n",
    "        maxindex = right_index #바꾸기 위해\n",
    "    if largest != index: #위에서 바뀌었다면(부모노드가 최대가 아니었다면)\n",
    "        arr[maxindex], arr[index] = arr[index], arr[maxindex] #실제 바꾸는 부분\n",
    "        heapify(arr, maxindex, heap_size)\n",
    "\n",
    "# 최악의 경우 root node에서 제일 아래의 leaf노드까지 값을 비교해야 하므로 트리 구조의 경우 높이는 log2n이고 값을 바꾸거나 비교하는 연산은 O(1)이므로 계산 복잡성은 O(logn)\n",
    "# 삽입 연산을 할 때 heapify는 아래에서 위로 heapify를 해준다\n",
    "# 삭제 연산을 할 때 위에서 아래로 heapify"
   ]
  },
  {
   "cell_type": "markdown",
   "metadata": {},
   "source": [
    "heap sort\n",
    "1. Build Max Heap from unorderd array\n",
    "2. Find maximum element A[1]\n",
    "3. Swap elements A[n] and A[1]\n",
    "    - now max element is at the end of the array\n",
    "4. Discard node n from heap (by decrementing heap-size variable)\n",
    "5. New root may violate max heap property, but its children are max heaps. Run max_heapify to fix this\n",
    "6. Go to Step 2 unless heap is empty"
   ]
  },
  {
   "cell_type": "code",
   "execution_count": null,
   "metadata": {},
   "outputs": [],
   "source": [
    "def heap_sort(arr):\n",
    "    heap_size = len(arr)\n",
    "    mid = heap_size//2 #배열의 중간부터 시작\n",
    "\n",
    "    for i in range(mid-1, -1, -1):\n",
    "        heapify(arr, i, heap_size)\n",
    "    \n",
    "    for i in range(heap_size-1, 0, -1):\n",
    "        arr[0], arr[i] = arr[i], arr[0]\n",
    "        heapify(arr, 0, i)\n",
    "    return arr"
   ]
  }
 ],
 "metadata": {
  "kernelspec": {
   "display_name": "Python 3",
   "language": "python",
   "name": "python3"
  },
  "language_info": {
   "codemirror_mode": {
    "name": "ipython",
    "version": 3
   },
   "file_extension": ".py",
   "mimetype": "text/x-python",
   "name": "python",
   "nbconvert_exporter": "python",
   "pygments_lexer": "ipython3",
   "version": "3.7.4"
  }
 },
 "nbformat": 4,
 "nbformat_minor": 4
}
