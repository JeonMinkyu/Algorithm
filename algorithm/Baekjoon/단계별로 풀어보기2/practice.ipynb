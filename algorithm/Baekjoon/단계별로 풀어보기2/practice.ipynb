{
 "cells": [
  {
   "cell_type": "markdown",
   "metadata": {},
   "source": [
    "# 동전 0"
   ]
  },
  {
   "cell_type": "code",
   "execution_count": 5,
   "metadata": {},
   "outputs": [
    {
     "name": "stdin",
     "output_type": "stream",
     "text": [
      " 10 4200\n"
     ]
    }
   ],
   "source": [
    "N,K=input().split(' ')\n",
    "N = int(N)\n",
    "K = int(K)"
   ]
  },
  {
   "cell_type": "code",
   "execution_count": 5,
   "metadata": {},
   "outputs": [],
   "source": [
    "N = 10\n",
    "K = 4200"
   ]
  },
  {
   "cell_type": "code",
   "execution_count": 6,
   "metadata": {},
   "outputs": [],
   "source": [
    "A = [1,5,10,50,100,500,1000,5000,10000,50000]"
   ]
  },
  {
   "cell_type": "markdown",
   "metadata": {},
   "source": [
    "### 필요한 동전 갯수의 최솟값\n",
    "1. 리스트에서 맨 끝부터 K보다 작은 것 중 최댓값 구함\n",
    "2. K - 최댓값*n > 0 일때 까지 n을 1씩 늘림\n",
    "3. 1,2를 K가 0이 될때까지 반복"
   ]
  },
  {
   "cell_type": "code",
   "execution_count": 17,
   "metadata": {},
   "outputs": [],
   "source": [
    "def main(N,A,K):\n",
    "    num=0\n",
    "    while K>0: # 3.\n",
    "        for i in range(N-1,-1,-1): # 1.\n",
    "            if A[i]<K and i+1==N:\n",
    "                K-=A[i]\n",
    "                num=num+1\n",
    "                break\n",
    "            if A[i]<=K:\n",
    "                K -= A[i]\n",
    "                num=num+1\n",
    "                break\n",
    "    print(num)"
   ]
  },
  {
   "cell_type": "code",
   "execution_count": 4,
   "metadata": {},
   "outputs": [
    {
     "name": "stdout",
     "output_type": "stream",
     "text": [
      "12\n"
     ]
    }
   ],
   "source": [
    "main(N,A,K)"
   ]
  },
  {
   "cell_type": "code",
   "execution_count": 7,
   "metadata": {},
   "outputs": [],
   "source": [
    "def main(N,A,K):\n",
    "    num=0\n",
    "    while K>0: # 3.\n",
    "        for i in range(N-1,-1,-1): # 1.\n",
    "            if K>=A[i]:\n",
    "                num = num + K//A[i]\n",
    "                K = K % A[i]\n",
    "                A = A[:i]\n",
    "    print(num)"
   ]
  },
  {
   "cell_type": "code",
   "execution_count": 8,
   "metadata": {},
   "outputs": [
    {
     "name": "stdout",
     "output_type": "stream",
     "text": [
      "6\n"
     ]
    }
   ],
   "source": [
    "main(N,A,K)"
   ]
  },
  {
   "cell_type": "markdown",
   "metadata": {},
   "source": [
    "# 개미"
   ]
  },
  {
   "cell_type": "code",
   "execution_count": 73,
   "metadata": {},
   "outputs": [],
   "source": [
    "l=10\n",
    "n=3\n",
    "k=[2,6,7]"
   ]
  },
  {
   "cell_type": "code",
   "execution_count": 69,
   "metadata": {},
   "outputs": [],
   "source": [
    "l=214\n",
    "n=7\n",
    "k=[11,12,7,13,176,23,191]"
   ]
  },
  {
   "cell_type": "code",
   "execution_count": 63,
   "metadata": {},
   "outputs": [],
   "source": [
    "l=5\n",
    "n=1\n",
    "k=[0]"
   ]
  },
  {
   "cell_type": "code",
   "execution_count": 64,
   "metadata": {},
   "outputs": [
    {
     "name": "stdout",
     "output_type": "stream",
     "text": [
      "0 5\n"
     ]
    }
   ],
   "source": [
    "mini = 1000000\n",
    "for i,loc in enumerate(k):\n",
    "    ab = abs(l//2 - loc)\n",
    "    if mini>ab:\n",
    "        mini = ab\n",
    "        min_idx = i\n",
    "min_time = l - k[min_idx]\n",
    "max_time=l-min(l - max(k), min(k))\n",
    "if n==1:\n",
    "    min_time = min(min(k),l-max(k))\n",
    "print(min_time, max_time)"
   ]
  },
  {
   "cell_type": "code",
   "execution_count": 74,
   "metadata": {},
   "outputs": [],
   "source": [
    "mintime=0\n",
    "maxtime=0\n",
    "for i in range(n):\n",
    "    antMin = min(k[i],l-k[i])\n",
    "    antMax = max(k[i],l-k[i])\n",
    "    \n",
    "    mintime = max(mintime, antMin)\n",
    "    maxtime = max(maxtime, antMax)"
   ]
  },
  {
   "cell_type": "code",
   "execution_count": null,
   "metadata": {},
   "outputs": [],
   "source": [
    "import sys\n",
    "\n",
    "def main():\n",
    "    num_test_case = int(sys.stdin.readline())\n",
    "    min_times = []\n",
    "    max_times = []\n",
    "    for i in range(num_test_case):\n",
    "        l,n = map(int, sys.stdin.readline().split())\n",
    "        k = [int(sys.stdin.readline()) for _ in range(n)]\n",
    "\n",
    "        mini = 1000000\n",
    "        for i,loc in enumerate(k):\n",
    "            ab = abs(l//2 - loc)\n",
    "            if mini>ab:\n",
    "                mini = ab\n",
    "                min_idx = i\n",
    "        min_time = l - k[min_idx]\n",
    "        max_time = l-min(l - max(k), min(k))\n",
    "        if n==1:\n",
    "            min_time = min(min(k),l-max(k))\n",
    "            \n",
    "        min_times.append(min_time)\n",
    "        max_times.append(max_time)\n",
    "        #print(min_time, max_time)\n",
    "\n",
    "    for i in range(num_test_case):\n",
    "        print(min_times[i], max_times[i])\n",
    "\n",
    "main()"
   ]
  },
  {
   "cell_type": "markdown",
   "metadata": {},
   "source": [
    "# 기타줄"
   ]
  },
  {
   "cell_type": "code",
   "execution_count": 7,
   "metadata": {},
   "outputs": [],
   "source": [
    "N = 71\n",
    "M = 2\n",
    "cost = [[12,15],[3,4]]"
   ]
  },
  {
   "cell_type": "code",
   "execution_count": 8,
   "metadata": {},
   "outputs": [],
   "source": [
    "min_pack = min(cost[0])\n",
    "min_per = min(cost[1])"
   ]
  },
  {
   "cell_type": "code",
   "execution_count": 9,
   "metadata": {},
   "outputs": [],
   "source": [
    "if N<=6:\n",
    "    total = min(min_pack, min_per*N)\n",
    "else:\n",
    "    a = (N//6)*min_pack + (N%6)*min_per\n",
    "    b = ((N//6)+1)*min_pack\n",
    "    c = N*min_per \n",
    "    total = min(a,b,c)"
   ]
  },
  {
   "cell_type": "code",
   "execution_count": 10,
   "metadata": {},
   "outputs": [
    {
     "data": {
      "text/plain": [
       "144"
      ]
     },
     "execution_count": 10,
     "metadata": {},
     "output_type": "execute_result"
    }
   ],
   "source": [
    "total"
   ]
  },
  {
   "cell_type": "markdown",
   "metadata": {},
   "source": [
    "# 신입사원 "
   ]
  },
  {
   "cell_type": "code",
   "execution_count": 192,
   "metadata": {},
   "outputs": [],
   "source": [
    "T = 2\n",
    "N = 7\n",
    "#A = [[3,2],[1,4],[4,1],[2,3],[5,5]]\n",
    "A = [[3,6],[7,3],[4,2],[1,4],[5,7],[2,5],[6,1]]\n",
    "sorted_A = sorted(A)"
   ]
  },
  {
   "cell_type": "code",
   "execution_count": 198,
   "metadata": {},
   "outputs": [
    {
     "name": "stdout",
     "output_type": "stream",
     "text": [
      "first_order: 100000\n",
      "-----\n",
      "first_order: 4\n",
      "-----\n",
      "first_order: 4\n",
      "-----\n",
      "first_order: 4\n",
      "-----\n",
      "first_order: 2\n",
      "-----\n",
      "first_order: 2\n",
      "-----\n",
      "first_order: 1\n",
      "-----\n",
      "3\n"
     ]
    }
   ],
   "source": [
    "first_order = 100000\n",
    "num = 0\n",
    "for score in sorted_A:\n",
    "    print('first_order:',first_order)\n",
    "    print('-'*5)\n",
    "    if score[1] < first_order:\n",
    "        first_order = score[1]\n",
    "\n",
    "    if score[0] == 1 or score[1] == 1: \n",
    "        num += 1\n",
    "        continue\n",
    "        \n",
    "    if score[1] > first_order:\n",
    "        continue\n",
    "    num+=1\n",
    "print(num)"
   ]
  },
  {
   "cell_type": "code",
   "execution_count": 196,
   "metadata": {},
   "outputs": [
    {
     "data": {
      "text/plain": [
       "[[1, 4], [2, 5], [3, 6], [4, 2], [5, 7], [6, 1], [7, 3]]"
      ]
     },
     "execution_count": 196,
     "metadata": {},
     "output_type": "execute_result"
    }
   ],
   "source": [
    "sorted_A"
   ]
  },
  {
   "cell_type": "code",
   "execution_count": 195,
   "metadata": {},
   "outputs": [
    {
     "name": "stdout",
     "output_type": "stream",
     "text": [
      "4\n",
      "5\n",
      "6\n",
      "2\n",
      "7\n",
      "1\n",
      "3\n"
     ]
    }
   ],
   "source": [
    "for score in sorted_A:\n",
    "    print(score[1])"
   ]
  }
 ],
 "metadata": {
  "kernelspec": {
   "display_name": "Python 3",
   "language": "python",
   "name": "python3"
  },
  "language_info": {
   "codemirror_mode": {
    "name": "ipython",
    "version": 3
   },
   "file_extension": ".py",
   "mimetype": "text/x-python",
   "name": "python",
   "nbconvert_exporter": "python",
   "pygments_lexer": "ipython3",
   "version": "3.6.7"
  }
 },
 "nbformat": 4,
 "nbformat_minor": 2
}
