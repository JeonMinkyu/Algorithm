{
 "cells": [
  {
   "cell_type": "markdown",
   "metadata": {},
   "source": [
    "# 문자열 사용하기"
   ]
  },
  {
   "cell_type": "markdown",
   "metadata": {},
   "source": [
    "## 백준 1157"
   ]
  },
  {
   "cell_type": "code",
   "execution_count": 13,
   "metadata": {
    "scrolled": true
   },
   "outputs": [
    {
     "name": "stdout",
     "output_type": "stream",
     "text": [
      "Mississipi\n"
     ]
    }
   ],
   "source": [
    "alpha = input()"
   ]
  },
  {
   "cell_type": "code",
   "execution_count": 14,
   "metadata": {},
   "outputs": [
    {
     "name": "stdout",
     "output_type": "stream",
     "text": [
      "?\n"
     ]
    }
   ],
   "source": [
    "def main(alpha):\n",
    "    alpha = alpha.upper() #우선 다 대문자로 바꾸고\n",
    "    dic={}\n",
    "    max=0\n",
    "    a=0\n",
    "    \n",
    "    for a in alpha: #dicionary 만들고 (key(알파벳) : value(개수) 형태로)\n",
    "        if a not in dic:\n",
    "            dic[a]=1\n",
    "        else :\n",
    "            dic[a] = dic[a]+1\n",
    "\n",
    "    for b in dic.keys(): #최댓값(가장 많이 사용된)에 해당하는 키 뽑기\n",
    "        if dic[b]>max:\n",
    "            max=dic[b] #최댓값에 해당하는거 찾기\n",
    "            str=b #그 해당 문자열 저장\n",
    "            a=0 #abcc처럼 1,1,2일때 처럼 앞에서 처리되는거 방지\n",
    "        elif dic[b] == max: #최댓값이 2개이상이라면 (최댓값이 이전값과 동일-> 최댓값2개 이상)\n",
    "            a=1\n",
    "    if a==1 : \n",
    "        print('?')\n",
    "    else :\n",
    "        print(str)\n",
    "\n",
    "main(alpha)"
   ]
  },
  {
   "cell_type": "markdown",
   "metadata": {},
   "source": [
    "## 백준 10809"
   ]
  },
  {
   "cell_type": "code",
   "execution_count": 3,
   "metadata": {
    "scrolled": true
   },
   "outputs": [
    {
     "name": "stdout",
     "output_type": "stream",
     "text": [
      "baekjoon\n"
     ]
    }
   ],
   "source": [
    "word = input()"
   ]
  },
  {
   "cell_type": "code",
   "execution_count": 4,
   "metadata": {
    "scrolled": true
   },
   "outputs": [
    {
     "name": "stdout",
     "output_type": "stream",
     "text": [
      "1 0 -1 -1 2 -1 -1 -1 -1 4 3 -1 -1 7 5 -1 -1 -1 -1 -1 -1 -1 -1 -1 -1 -1 "
     ]
    }
   ],
   "source": [
    "def func_10809(word):\n",
    "    dict={}\n",
    "    string=''\n",
    "    for i in range(97,123):\n",
    "        dict[chr(i)]=-1 #모든 알파벳 value를 -1로 초기화\n",
    "\n",
    "    for i in range(len(word)):\n",
    "        if dict[word[i]]==-1: #처음 등장하는 위치를 넣어줘야 하므로 -1일경우만 갱신\n",
    "            dict[word[i]]=i\n",
    "        else : #-1이 아닌경우는 pass\n",
    "            pass\n",
    "        \n",
    "    for j in range(0,26): #알파벳수만큼 \n",
    "        print (list(dict.values())[j], end=\" \") # print문으로 개행않고 출력\n",
    "func_10809(word)"
   ]
  },
  {
   "cell_type": "markdown",
   "metadata": {},
   "source": [
    "## 백준 1316"
   ]
  },
  {
   "cell_type": "code",
   "execution_count": 132,
   "metadata": {},
   "outputs": [
    {
     "name": "stdout",
     "output_type": "stream",
     "text": [
      "4\n",
      "aba\n",
      "abab\n",
      "abcabc\n",
      "a\n",
      "1\n"
     ]
    }
   ],
   "source": [
    "N=int(input())\n",
    "word=[]\n",
    "total=0\n",
    "\n",
    "for i in range(N):\n",
    "    word.append(input())\n",
    "    \n",
    "for j in range(len(word)):\n",
    "    a=word[j]\n",
    "    t=1\n",
    "    sentence=''\n",
    "    unique=a[0]\n",
    "    for i in range(len(a)):\n",
    "        sentence = sentence + a[i]\n",
    "        if unique == set(sentence):\n",
    "            if sentence[i] != sentence[i-1]:\n",
    "                t=0\n",
    "        unique=set(sentence)\n",
    "\n",
    "    total = total+t\n",
    "print(total)"
   ]
  },
  {
   "cell_type": "markdown",
   "metadata": {},
   "source": [
    "## 백준 2941"
   ]
  },
  {
   "cell_type": "code",
   "execution_count": 186,
   "metadata": {},
   "outputs": [
    {
     "name": "stdout",
     "output_type": "stream",
     "text": [
      "ddz=z=\n",
      "3\n"
     ]
    }
   ],
   "source": [
    "cro_alpha = ['c=', 'c-', 'dz=', 'd-', 'lj', 'nj', 's=', 'z=']\n",
    "alpha = input()\n",
    " \n",
    "for t in cro_alpha:\n",
    "    alpha = alpha.replace(t, '0') #크로아티아 알파벳을 한글자로 처리\n",
    "\n",
    "print(len(alpha))"
   ]
  }
 ],
 "metadata": {
  "kernelspec": {
   "display_name": "Python 3",
   "language": "python",
   "name": "python3"
  },
  "language_info": {
   "codemirror_mode": {
    "name": "ipython",
    "version": 3
   },
   "file_extension": ".py",
   "mimetype": "text/x-python",
   "name": "python",
   "nbconvert_exporter": "python",
   "pygments_lexer": "ipython3",
   "version": "3.6.7"
  }
 },
 "nbformat": 4,
 "nbformat_minor": 2
}
