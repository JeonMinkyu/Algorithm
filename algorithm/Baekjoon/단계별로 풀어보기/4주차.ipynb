{
 "cells": [
  {
   "cell_type": "code",
   "execution_count": 25,
   "metadata": {},
   "outputs": [],
   "source": [
    "def is_prime(number):\n",
    "    n=0\n",
    "    if number == 2 :\n",
    "        n=1\n",
    "        return n\n",
    "    for i in range(2,number):\n",
    "        \n",
    "        if number % i == 0:\n",
    "            n=0 #if not prime, return 0\n",
    "            return n\n",
    "        else :\n",
    "            n=1 #if prime, return 1\n",
    "    return n"
   ]
  },
  {
   "cell_type": "code",
   "execution_count": 29,
   "metadata": {},
   "outputs": [
    {
     "name": "stdout",
     "output_type": "stream",
     "text": [
      "5\n",
      "19 2 13 55 12\n",
      "3\n"
     ]
    }
   ],
   "source": [
    "N = int(input())\n",
    "a = input().split()\n",
    "\n",
    "t=0\n",
    "for j in range(N):\n",
    "    t = t + is_prime(int(a[j]))\n",
    "    \n",
    "print(t)"
   ]
  }
 ],
 "metadata": {
  "kernelspec": {
   "display_name": "cs231n",
   "language": "python",
   "name": "cs231n"
  },
  "language_info": {
   "codemirror_mode": {
    "name": "ipython",
    "version": 3
   },
   "file_extension": ".py",
   "mimetype": "text/x-python",
   "name": "python",
   "nbconvert_exporter": "python",
   "pygments_lexer": "ipython3",
   "version": "3.6.7"
  }
 },
 "nbformat": 4,
 "nbformat_minor": 2
}
