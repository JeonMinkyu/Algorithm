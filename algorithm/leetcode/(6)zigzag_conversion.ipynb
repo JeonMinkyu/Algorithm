{
 "cells": [
  {
   "cell_type": "code",
   "execution_count": 31,
   "metadata": {},
   "outputs": [],
   "source": [
    "class Solution:\n",
    "    def convert(self, s, numRows):\n",
    "        lst = [[] for i in range(numRows)]\n",
    "        idx = 0\n",
    "        new = []\n",
    "        while idx < len(s):\n",
    "\n",
    "            for i in range(numRows):\n",
    "                lst[i].append(s[idx])\n",
    "                idx +=1\n",
    "                if idx == len(s):\n",
    "                    break\n",
    "\n",
    "            if idx == len(s):\n",
    "                break\n",
    "\n",
    "            for i in range(2,numRows):\n",
    "                lst[-i].append(s[idx]) #뒤에서 i번째에 추가(지그재그 부분이 아래서부터 올라옴)\n",
    "                idx +=1\n",
    "                if idx == len(s):\n",
    "                    break\n",
    "        new = [val for sublist in lst for val in sublist]\n",
    "        return (''.join(str(x) for x in new))"
   ]
  },
  {
   "cell_type": "code",
   "execution_count": 32,
   "metadata": {},
   "outputs": [],
   "source": [
    "Solution = Solution()"
   ]
  },
  {
   "cell_type": "code",
   "execution_count": 33,
   "metadata": {},
   "outputs": [
    {
     "name": "stdout",
     "output_type": "stream",
     "text": [
      "lst: [['P', 'I', 'N'], ['A', 'L', 'S', 'I', 'G'], ['Y', 'A', 'H', 'R'], ['P', 'I']]\n"
     ]
    },
    {
     "data": {
      "text/plain": [
       "'PINALSIGYAHRPI'"
      ]
     },
     "execution_count": 33,
     "metadata": {},
     "output_type": "execute_result"
    }
   ],
   "source": [
    "Solution.convert(\"PAYPALISHIRING\",4)"
   ]
  }
 ],
 "metadata": {
  "kernelspec": {
   "display_name": "Python 3",
   "language": "python",
   "name": "python3"
  },
  "language_info": {
   "codemirror_mode": {
    "name": "ipython",
    "version": 3
   },
   "file_extension": ".py",
   "mimetype": "text/x-python",
   "name": "python",
   "nbconvert_exporter": "python",
   "pygments_lexer": "ipython3",
   "version": "3.6.7"
  }
 },
 "nbformat": 4,
 "nbformat_minor": 2
}
