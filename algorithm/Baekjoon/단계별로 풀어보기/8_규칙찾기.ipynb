{
 "cells": [
  {
   "cell_type": "markdown",
   "metadata": {},
   "source": [
    "# 2292 벌집"
   ]
  },
  {
   "cell_type": "code",
   "execution_count": 37,
   "metadata": {},
   "outputs": [],
   "source": [
    "def num_1(n):\n",
    "    return 3*(n**2) - 8*n + 6\n",
    "\n",
    "def num_2(n):\n",
    "    return 3*(n**2) - 7*n + 5\n",
    "\n",
    "def num_3(n):\n",
    "    return 3*(n**2) - 6*n + 4\n",
    "\n",
    "def num_4(n):\n",
    "    return 3*(n**2) - 5*n + 3\n",
    "\n",
    "def num_5(n):\n",
    "    return 3*(n**2) - 4*n + 2\n",
    "\n",
    "def num_6(n):\n",
    "    return 3*(n**2) - 3*n + 1"
   ]
  },
  {
   "cell_type": "code",
   "execution_count": 48,
   "metadata": {},
   "outputs": [
    {
     "name": "stdout",
     "output_type": "stream",
     "text": [
      "58\n"
     ]
    }
   ],
   "source": [
    "num_input = int(input())"
   ]
  },
  {
   "cell_type": "code",
   "execution_count": 49,
   "metadata": {},
   "outputs": [],
   "source": [
    "n=0\n",
    "while(num_1(n)<num_input):\n",
    "    n=n+1\n",
    "    #num_1 = (3*(n**2) - 8*n + 6)"
   ]
  },
  {
   "cell_type": "code",
   "execution_count": 50,
   "metadata": {},
   "outputs": [
    {
     "data": {
      "text/plain": [
       "6"
      ]
     },
     "execution_count": 50,
     "metadata": {},
     "output_type": "execute_result"
    }
   ],
   "source": [
    "n"
   ]
  },
  {
   "cell_type": "code",
   "execution_count": 51,
   "metadata": {},
   "outputs": [
    {
     "data": {
      "text/plain": [
       "5"
      ]
     },
     "execution_count": 51,
     "metadata": {},
     "output_type": "execute_result"
    }
   ],
   "source": [
    "n = n-1\n",
    "n"
   ]
  },
  {
   "cell_type": "code",
   "execution_count": 47,
   "metadata": {},
   "outputs": [
    {
     "data": {
      "text/plain": [
       "1"
      ]
     },
     "execution_count": 47,
     "metadata": {},
     "output_type": "execute_result"
    }
   ],
   "source": [
    "min_val = min(abs(num_1(n)-num_input),abs(num_2(n)-num_input),abs(num_3(n) - num_input), abs(num_4(n)-num_input),abs(num_5(n)-num_input), abs(num_6(n)-num_input))\n",
    "if min_val == 0:\n",
    "    print(n)\n",
    "else:\n",
    "    \n",
    "    "
   ]
  },
  {
   "cell_type": "code",
   "execution_count": 52,
   "metadata": {},
   "outputs": [
    {
     "name": "stdout",
     "output_type": "stream",
     "text": [
      "17 13 9 5 1 3\n"
     ]
    }
   ],
   "source": [
    "print(abs(num_1(n)-num_input),abs(num_2(n)-num_input),abs(num_3(n) - num_input), abs(num_4(n)-num_input),abs(num_5(n)-num_input), abs(num_6(n)-num_input))"
   ]
  },
  {
   "cell_type": "code",
   "execution_count": 53,
   "metadata": {},
   "outputs": [
    {
     "data": {
      "text/plain": [
       "57"
      ]
     },
     "execution_count": 53,
     "metadata": {},
     "output_type": "execute_result"
    }
   ],
   "source": [
    "num_5(n)"
   ]
  }
 ],
 "metadata": {
  "kernelspec": {
   "display_name": "Python 3",
   "language": "python",
   "name": "python3"
  },
  "language_info": {
   "codemirror_mode": {
    "name": "ipython",
    "version": 3
   },
   "file_extension": ".py",
   "mimetype": "text/x-python",
   "name": "python",
   "nbconvert_exporter": "python",
   "pygments_lexer": "ipython3",
   "version": "3.6.7"
  }
 },
 "nbformat": 4,
 "nbformat_minor": 2
}
