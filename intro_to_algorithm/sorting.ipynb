{
 "cells": [
  {
   "cell_type": "markdown",
   "metadata": {},
   "source": [
    "### Insertion sort"
   ]
  },
  {
   "cell_type": "code",
   "execution_count": 1,
   "metadata": {},
   "outputs": [],
   "source": [
    "def insertion_sort(arr):\n",
    "    for i in range(1,len(arr)): #모든 리스트 요소에 대해\n",
    "        key = arr[i] #key값을 정하고\n",
    "        \n",
    "        j = i-1 #그 이전의 값들과 비교하면서 key의 자리 찾기\n",
    "        while j>=0:\n",
    "            if key < arr[j]: #key값이 이전 리스트 값보다 작다면\n",
    "                arr[j+1] = arr[j] #swap\n",
    "            else:\n",
    "                break\n",
    "            j=j-1\n",
    "        arr[j+1] = key\n",
    "    return arr"
   ]
  },
  {
   "cell_type": "code",
   "execution_count": 2,
   "metadata": {},
   "outputs": [],
   "source": [
    "import random\n",
    "arr = [random.randint(1,10) for _ in range(5)]"
   ]
  },
  {
   "cell_type": "code",
   "execution_count": 3,
   "metadata": {},
   "outputs": [
    {
     "data": {
      "text/plain": [
       "[10, 6, 10, 4, 9]"
      ]
     },
     "execution_count": 3,
     "metadata": {},
     "output_type": "execute_result"
    }
   ],
   "source": [
    "arr"
   ]
  },
  {
   "cell_type": "code",
   "execution_count": 4,
   "metadata": {},
   "outputs": [
    {
     "data": {
      "text/plain": [
       "[4, 6, 9, 10, 10]"
      ]
     },
     "execution_count": 4,
     "metadata": {},
     "output_type": "execute_result"
    }
   ],
   "source": [
    "insertion_sort(arr)"
   ]
  },
  {
   "cell_type": "markdown",
   "metadata": {},
   "source": [
    "### Binary Insertion sort"
   ]
  },
  {
   "cell_type": "code",
   "execution_count": 5,
   "metadata": {},
   "outputs": [],
   "source": [
    "def binary_search(arr, val, start, end): #where to insert\n",
    "    if start == end:\n",
    "        if arr[start] > val:\n",
    "            return start\n",
    "        else:\n",
    "            return start + 1\n",
    "        \n",
    "    elif start > end:\n",
    "        return start\n",
    "    \n",
    "    else:\n",
    "        mid = (start + end) // 2\n",
    "\n",
    "        if arr[mid] < val: # val이 중간보다 뒤에 있는 상황\n",
    "            return binary_search(arr, val, mid+1, end)\n",
    "        elif arr[mid] > val: # val이 중간보다 앞에 있는 상황\n",
    "            return binary_search(arr, val, start, mid-1)\n",
    "        else:\n",
    "            return mid"
   ]
  },
  {
   "cell_type": "code",
   "execution_count": 6,
   "metadata": {},
   "outputs": [],
   "source": [
    "def binary_insertion_sort(arr):\n",
    "    for i in range(1, len(arr)):\n",
    "        val = arr[i]\n",
    "        where_to_insert = binary_search(arr, val, 0, i-1)\n",
    "        arr = arr[:where_to_insert] + [val] + arr[where_to_insert:i] + arr[i+1:]\n",
    "    return arr"
   ]
  },
  {
   "cell_type": "code",
   "execution_count": 7,
   "metadata": {},
   "outputs": [],
   "source": [
    "import random\n",
    "arr = [random.randint(1,100) for _ in range(10)]"
   ]
  },
  {
   "cell_type": "code",
   "execution_count": 9,
   "metadata": {},
   "outputs": [
    {
     "data": {
      "text/plain": [
       "[5, 24, 28, 40, 44, 63, 72, 75, 75, 97]"
      ]
     },
     "execution_count": 9,
     "metadata": {},
     "output_type": "execute_result"
    }
   ],
   "source": [
    "binary_insertion_sort(arr)"
   ]
  },
  {
   "cell_type": "markdown",
   "metadata": {},
   "source": [
    "### Merge sort"
   ]
  },
  {
   "cell_type": "code",
   "execution_count": null,
   "metadata": {},
   "outputs": [],
   "source": [
    "def merge_sort(arr):\n",
    "    if len(arr) <= 1:\n",
    "        return arr\n",
    "    mid = len(arr) // 2\n",
    "    L = arr[:mid]\n",
    "    R = arr[mid:]\n",
    "    \n",
    "    L = merge_sort(L)\n",
    "    R = merge_sort(R)\n",
    "\n",
    "    return merge(L, R)"
   ]
  },
  {
   "cell_type": "code",
   "execution_count": null,
   "metadata": {},
   "outputs": [],
   "source": [
    "def merge(L, R):\n",
    "    result = []\n",
    "    while len(L) > 0 or len(R) > 0:\n",
    "        if len(R) > 0 and len(R) > 0:\n",
    "            if L[0] <= R[0]:\n",
    "                result.append(L[0])\n",
    "                L = L[1:]\n",
    "            else:\n",
    "                result.append(R[0])\n",
    "                R = R[1:]\n",
    "        elif len(L) > 0:\n",
    "            result.append(L[0])\n",
    "            L = L[1:]\n",
    "        elif len(R) > 0:\n",
    "            result.append(R[0])\n",
    "            R = R[1:]\n",
    "    return result"
   ]
  },
  {
   "cell_type": "code",
   "execution_count": 10,
   "metadata": {},
   "outputs": [],
   "source": [
    "def merge_sort(arr):\n",
    "    \n",
    "    if len(arr) <= 1:\n",
    "        return arr\n",
    "    \n",
    "    mid = len(arr)//2\n",
    "    \n",
    "    L = arr[:mid]\n",
    "    R = arr[mid:]\n",
    "    print('before merge sort')\n",
    "    print(L)\n",
    "    print(R)\n",
    "    merge_sort(L)\n",
    "    merge_sort(R)\n",
    "    print('after merge_sort')\n",
    "    print(L)\n",
    "    print(R)\n",
    "    i=j=k=0\n",
    "    while i<len(L) and j < len(R):\n",
    "        if L[i] < R[j]:\n",
    "            arr[k] = L[i]\n",
    "            i=i+1\n",
    "        else:\n",
    "            arr[k] = R[j]\n",
    "            j=j+1\n",
    "        k = k+1\n",
    "    if i==len(L): #left 채우고 right만 남았을 경우\n",
    "        while j<len(R):\n",
    "            arr[k] = R[j]\n",
    "            j=j+1\n",
    "            k=k+1\n",
    "            \n",
    "    elif j==len(R): # 그 반대\n",
    "        while i<len(L):\n",
    "            arr[k] = L[i]\n",
    "            i=i+1\n",
    "            k=k+1\n",
    "    return arr    "
   ]
  },
  {
   "cell_type": "code",
   "execution_count": 11,
   "metadata": {},
   "outputs": [],
   "source": [
    "import random\n",
    "arr = [random.randint(1,100) for _ in range(10)]"
   ]
  },
  {
   "cell_type": "code",
   "execution_count": 12,
   "metadata": {},
   "outputs": [
    {
     "data": {
      "text/plain": [
       "[49, 88, 70, 1, 36, 41, 83, 99, 80, 14]"
      ]
     },
     "execution_count": 12,
     "metadata": {},
     "output_type": "execute_result"
    }
   ],
   "source": [
    "arr"
   ]
  },
  {
   "cell_type": "code",
   "execution_count": 13,
   "metadata": {},
   "outputs": [
    {
     "name": "stdout",
     "output_type": "stream",
     "text": [
      "before merge sort\n",
      "[49, 88, 70, 1, 36]\n",
      "[41, 83, 99, 80, 14]\n",
      "before merge sort\n",
      "[49, 88]\n",
      "[70, 1, 36]\n",
      "before merge sort\n",
      "[49]\n",
      "[88]\n",
      "after merge_sort\n",
      "[49]\n",
      "[88]\n",
      "before merge sort\n",
      "[70]\n",
      "[1, 36]\n",
      "before merge sort\n",
      "[1]\n",
      "[36]\n",
      "after merge_sort\n",
      "[1]\n",
      "[36]\n",
      "after merge_sort\n",
      "[70]\n",
      "[1, 36]\n",
      "after merge_sort\n",
      "[49, 88]\n",
      "[1, 36, 70]\n",
      "before merge sort\n",
      "[41, 83]\n",
      "[99, 80, 14]\n",
      "before merge sort\n",
      "[41]\n",
      "[83]\n",
      "after merge_sort\n",
      "[41]\n",
      "[83]\n",
      "before merge sort\n",
      "[99]\n",
      "[80, 14]\n",
      "before merge sort\n",
      "[80]\n",
      "[14]\n",
      "after merge_sort\n",
      "[80]\n",
      "[14]\n",
      "after merge_sort\n",
      "[99]\n",
      "[14, 80]\n",
      "after merge_sort\n",
      "[41, 83]\n",
      "[14, 80, 99]\n",
      "after merge_sort\n",
      "[1, 36, 49, 70, 88]\n",
      "[14, 41, 80, 83, 99]\n"
     ]
    },
    {
     "data": {
      "text/plain": [
       "[1, 14, 36, 41, 49, 70, 80, 83, 88, 99]"
      ]
     },
     "execution_count": 13,
     "metadata": {},
     "output_type": "execute_result"
    }
   ],
   "source": [
    "merge_sort(arr)"
   ]
  },
  {
   "cell_type": "code",
   "execution_count": null,
   "metadata": {},
   "outputs": [],
   "source": []
  }
 ],
 "metadata": {
  "kernelspec": {
   "display_name": "Python 3",
   "language": "python",
   "name": "python3"
  },
  "language_info": {
   "codemirror_mode": {
    "name": "ipython",
    "version": 3
   },
   "file_extension": ".py",
   "mimetype": "text/x-python",
   "name": "python",
   "nbconvert_exporter": "python",
   "pygments_lexer": "ipython3",
   "version": "3.7.4"
  }
 },
 "nbformat": 4,
 "nbformat_minor": 4
}
