{
 "cells": [
  {
   "cell_type": "code",
   "execution_count": 224,
   "metadata": {},
   "outputs": [],
   "source": [
    "class Solution(object):\n",
    "    def reverse(self, x):\n",
    "        \"\"\"\n",
    "        :type x: int\n",
    "        :rtype: int\n",
    "        \"\"\"\n",
    "        if x==0 :\n",
    "            return 0\n",
    "        x = str(x)\n",
    "        sign = 0\n",
    "        num=0\n",
    "        \n",
    "        if x[0] == '-':\n",
    "            sign = 1\n",
    "            x = x[1:]\n",
    "        \n",
    "        if x[::-1][0] == '0':\n",
    "            x = x[::-1]\n",
    "            for i in x:\n",
    "                if i!='0':\n",
    "                    break\n",
    "                num=num+1\n",
    "            x = int(x[num:])\n",
    "        else:\n",
    "            x = int(x[::-1])\n",
    "        \n",
    "        if x>=2147483647 or x<=-2147483648:\n",
    "            return 0\n",
    "        if sign == 0:\n",
    "            return x\n",
    "        else:\n",
    "            return -x"
   ]
  },
  {
   "cell_type": "code",
   "execution_count": 225,
   "metadata": {},
   "outputs": [
    {
     "data": {
      "text/plain": [
       "0"
      ]
     },
     "execution_count": 225,
     "metadata": {},
     "output_type": "execute_result"
    }
   ],
   "source": [
    "sol=Solution()\n",
    "sol.reverse(1534236469)"
   ]
  }
 ],
 "metadata": {
  "kernelspec": {
   "display_name": "Python 3",
   "language": "python",
   "name": "python3"
  },
  "language_info": {
   "codemirror_mode": {
    "name": "ipython",
    "version": 3
   },
   "file_extension": ".py",
   "mimetype": "text/x-python",
   "name": "python",
   "nbconvert_exporter": "python",
   "pygments_lexer": "ipython3",
   "version": "3.6.7"
  }
 },
 "nbformat": 4,
 "nbformat_minor": 2
}
