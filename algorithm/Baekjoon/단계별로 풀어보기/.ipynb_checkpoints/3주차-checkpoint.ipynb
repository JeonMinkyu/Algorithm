{
 "cells": [
  {
   "cell_type": "markdown",
   "metadata": {},
   "source": [
    "# 정렬 해보기"
   ]
  },
  {
   "cell_type": "markdown",
   "metadata": {},
   "source": [
    "# 2751 - 시간초과"
   ]
  },
  {
   "cell_type": "code",
   "execution_count": 26,
   "metadata": {},
   "outputs": [],
   "source": [
    "def merge(left, right):\n",
    "    i=0\n",
    "    j=0\n",
    "    rst = []\n",
    "    \n",
    "    while (i<len(left)) and (j<len(right)): \n",
    "        if left[i] < right[j]:\n",
    "            rst.append(left[i])\n",
    "            i+=1\n",
    "        else:\n",
    "            rst.append(right[j])\n",
    "            j+=1\n",
    "    while (i<len(left)): #left 부분이 남았을 경우\n",
    "        rst.append(left[i])\n",
    "        i+=1\n",
    "    while (j<len(right)): #right 부분이 남았을 경우\n",
    "        rst.append(right[j])\n",
    "        j+=1\n",
    "    return rst"
   ]
  },
  {
   "cell_type": "code",
   "execution_count": 27,
   "metadata": {},
   "outputs": [],
   "source": [
    "def merge_sort(list):\n",
    "    if len(list) <= 1:\n",
    "        return list\n",
    "    mid = int(len(list)/2) #반으로 쪼개기\n",
    "    left_list = list[:mid]\n",
    "    right_list = list[mid:]\n",
    "    \n",
    "    left_list = merge_sort(left_list) #\n",
    "    right_list = merge_sort(right_list)\n",
    "    \n",
    "    return merge(left_list, right_list)"
   ]
  },
  {
   "cell_type": "code",
   "execution_count": 30,
   "metadata": {
    "scrolled": true
   },
   "outputs": [
    {
     "name": "stdout",
     "output_type": "stream",
     "text": [
      "5\n",
      "5\n",
      "4\n",
      "3\n",
      "2\n",
      "1\n",
      "1\n",
      "2\n",
      "3\n",
      "4\n",
      "5\n"
     ]
    }
   ],
   "source": [
    "N = int(input())\n",
    "list=[]\n",
    "\n",
    "temp = []\n",
    "nrotae = stdin.readline()\n",
    "for i in range(nrotae):\n",
    "    temp.append(stdin.readline())\n",
    "\n",
    "for j in range(N):\n",
    "    print(merge_sort(list)[j])"
   ]
  },
  {
   "cell_type": "markdown",
   "metadata": {},
   "source": [
    "# 2751 풀이"
   ]
  },
  {
   "cell_type": "markdown",
   "metadata": {},
   "source": [
    "https://medium.com/@fiv3star/python-sorted-알고리즘-timsort-dca0ec7a08be - sorted 내장함수는 time sort!"
   ]
  },
  {
   "cell_type": "code",
   "execution_count": null,
   "metadata": {},
   "outputs": [],
   "source": [
    "import sys\n",
    "lst = []\n",
    "N = int(sys.stdin.readline())\n",
    "for i in range(N):\n",
    "    lst.append(int(sys.stdin.readline()))\n",
    "\n",
    "lst = sorted(lst)\n",
    "\n",
    "for j in range(N):\n",
    "    print(lst[j])"
   ]
  },
  {
   "cell_type": "markdown",
   "metadata": {},
   "source": [
    "# 1181"
   ]
  },
  {
   "cell_type": "markdown",
   "metadata": {},
   "source": [
    "### 런타임 코드"
   ]
  },
  {
   "cell_type": "code",
   "execution_count": 67,
   "metadata": {
    "scrolled": true
   },
   "outputs": [
    {
     "name": "stdout",
     "output_type": "stream",
     "text": [
      "13\n",
      "but\n",
      "i\n",
      "wont\n",
      "hesitate\n",
      "no\n",
      "more\n",
      "no\n",
      "more\n",
      "it\n",
      "cannot\n",
      "wait\n",
      "im\n",
      "yours\n",
      "i\n",
      "im\n",
      "it\n",
      "no\n",
      "but\n",
      "more\n",
      "wait\n",
      "wont\n",
      "yours\n",
      "cannot\n",
      "hesitate\n"
     ]
    }
   ],
   "source": [
    "import sys\n",
    "\n",
    "def improved_bubble_sort(L):\n",
    "    swap=True\n",
    "    while swap:\n",
    "        swap=False #정렬이 다 끝나면 반복하지 않도록(improved)\n",
    "        for j in range(len(L)-1):\n",
    "            if len(L[j]) > len(L[j+1]):\n",
    "                temp = L[j+1]\n",
    "                L[j+1] = L[j]\n",
    "                L[j] = temp\n",
    "                swap=True\n",
    "                \n",
    "def same_length_improved_bubble_sort(L): #한번 정렬 된 후 같은 길이일때 또 정렬\n",
    "    swap=True\n",
    "    while swap:\n",
    "        swap=False #정렬이 다 끝나면 반복하지 않도록\n",
    "        for j in range(len(L)-1):\n",
    "            if len(L[j]) == len(L[j+1]):\n",
    "                if L[j] > L[j+1]:\n",
    "                    temp = L[j+1]\n",
    "                    L[j+1] = L[j]\n",
    "                    L[j] = temp\n",
    "                    swap=True\n",
    "                    \n",
    "N = int(input())\n",
    "word_set = []\n",
    "\n",
    "for i in range(N):\n",
    "    word_set.append(input())\n",
    "word_set = list(set(word_set))\n",
    "\n",
    "bubble_sort(word_set)\n",
    "same_length_bubble_sort(word_set)\n",
    "\n",
    "for i in range(len(word_set)):\n",
    "    print(word_set[i])"
   ]
  },
  {
   "cell_type": "markdown",
   "metadata": {},
   "source": [
    "### Sorted 코드"
   ]
  },
  {
   "cell_type": "code",
   "execution_count": 155,
   "metadata": {},
   "outputs": [
    {
     "ename": "ValueError",
     "evalue": "invalid literal for int() with base 10: ''",
     "output_type": "error",
     "traceback": [
      "\u001b[1;31m---------------------------------------------------------------------------\u001b[0m",
      "\u001b[1;31mValueError\u001b[0m                                Traceback (most recent call last)",
      "\u001b[1;32m<ipython-input-155-728d559bcce0>\u001b[0m in \u001b[0;36m<module>\u001b[1;34m()\u001b[0m\n\u001b[0;32m      1\u001b[0m \u001b[1;32mimport\u001b[0m \u001b[0msys\u001b[0m\u001b[1;33m\u001b[0m\u001b[0m\n\u001b[0;32m      2\u001b[0m \u001b[1;33m\u001b[0m\u001b[0m\n\u001b[1;32m----> 3\u001b[1;33m \u001b[0mN\u001b[0m \u001b[1;33m=\u001b[0m \u001b[0mint\u001b[0m\u001b[1;33m(\u001b[0m\u001b[0msys\u001b[0m\u001b[1;33m.\u001b[0m\u001b[0mstdin\u001b[0m\u001b[1;33m.\u001b[0m\u001b[0mreadline\u001b[0m\u001b[1;33m(\u001b[0m\u001b[1;33m)\u001b[0m\u001b[1;33m)\u001b[0m\u001b[1;33m\u001b[0m\u001b[0m\n\u001b[0m\u001b[0;32m      4\u001b[0m \u001b[0mword_set\u001b[0m \u001b[1;33m=\u001b[0m \u001b[1;33m[\u001b[0m\u001b[1;33m]\u001b[0m\u001b[1;33m\u001b[0m\u001b[0m\n\u001b[0;32m      5\u001b[0m \u001b[1;33m\u001b[0m\u001b[0m\n",
      "\u001b[1;31mValueError\u001b[0m: invalid literal for int() with base 10: ''"
     ]
    }
   ],
   "source": [
    "import sys\n",
    "\n",
    "N = int(sys.stdin.readline())\n",
    "word_set = []\n",
    "\n",
    "for i in range(N):\n",
    "    word_set.append(sys.stdin.readline())\n",
    "    #word_set.append(input())\n",
    "\n",
    "word_set = list(set(word_set))\n",
    "\n",
    "word_set = sorted(word_set)\n",
    "word_set = sorted(word_set,key=len)\n",
    "\n",
    "for j in range(len(word_set)):\n",
    "    print(word_set[j])"
   ]
  },
  {
   "cell_type": "code",
   "execution_count": null,
   "metadata": {},
   "outputs": [],
   "source": []
  }
 ],
 "metadata": {
  "kernelspec": {
   "display_name": "Python 3",
   "language": "python",
   "name": "python3"
  },
  "language_info": {
   "codemirror_mode": {
    "name": "ipython",
    "version": 3
   },
   "file_extension": ".py",
   "mimetype": "text/x-python",
   "name": "python",
   "nbconvert_exporter": "python",
   "pygments_lexer": "ipython3",
   "version": "3.6.7"
  }
 },
 "nbformat": 4,
 "nbformat_minor": 2
}
