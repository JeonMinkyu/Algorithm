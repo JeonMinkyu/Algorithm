{
 "cells": [
  {
   "cell_type": "markdown",
   "metadata": {},
   "source": [
    "# 규칙 찾기"
   ]
  },
  {
   "cell_type": "markdown",
   "metadata": {},
   "source": [
    "# 1193"
   ]
  },
  {
   "cell_type": "markdown",
   "metadata": {},
   "source": [
    "1. 행렬로 생각하여 분자를 행, 분모를 열로 본다\n",
    "2. 각각 한 대각선(지그재그에서)의 끝은 1+2+3+4+5 형태로 계산 가능\n",
    "    ex)1(1/1) + 2(2/1) + 3(1/3) + 4(4/1) + 5(1/5)\n",
    "3. 2에 의해 x값보다 바로 한단계 큰 '끝'을 찾을 수 있음\n",
    "4. '끝' 에서부터 시작하여 찾을때까지 반복문을 돌려 찾으면 됨"
   ]
  },
  {
   "cell_type": "code",
   "execution_count": 65,
   "metadata": {},
   "outputs": [
    {
     "name": "stdout",
     "output_type": "stream",
     "text": [
      "50000000\n",
      "5000/5001"
     ]
    }
   ],
   "source": [
    "x = int(input())\n",
    "\n",
    "def func(x):\n",
    "    num=0\n",
    "    i=0\n",
    "    while(True):\n",
    "        num = num + i #num : 각각 지그재그 대각선의 '끝'의 위치/ i : 행,열을 가늠할 수 있음\n",
    "        if num == x : #입력값이 '끝 부분'이라면\n",
    "            if i%2!=0: #홀수인 경우\n",
    "                up=1 #분자는 1\n",
    "                down=i #분모는 i\n",
    "            else:\n",
    "                up=i #분자는 i\n",
    "                down=1 #분모는 1\n",
    "            break\n",
    "        if num>x and num<x+(i+1) #입력값 x가 '끝'이 아니라면:\n",
    "            if i%2!=0: # 홀수라면\n",
    "                down=i\n",
    "                up=1\n",
    "                for j in range(0,num-x): #찾을때까지\n",
    "                    up=up+1 #분자 += 1\n",
    "                    down=down-1 # 분모 -= 1\n",
    "                break\n",
    "            else :\n",
    "                down=1\n",
    "                up=i\n",
    "                for j in range(0,num-x):\n",
    "                    up=up-1\n",
    "                    down=down+1\n",
    "                break\n",
    "        i=i+1\n",
    "    return up,down\n",
    "\n",
    "up,down = func(x)\n",
    "print(up,end=\"\")\n",
    "print('/',end=\"\")\n",
    "print(down,end=\"\")"
   ]
  },
  {
   "cell_type": "code",
   "execution_count": null,
   "metadata": {},
   "outputs": [],
   "source": []
  }
 ],
 "metadata": {
  "kernelspec": {
   "display_name": "Python 3",
   "language": "python",
   "name": "python3"
  },
  "language_info": {
   "codemirror_mode": {
    "name": "ipython",
    "version": 3
   },
   "file_extension": ".py",
   "mimetype": "text/x-python",
   "name": "python",
   "nbconvert_exporter": "python",
   "pygments_lexer": "ipython3",
   "version": "3.6.7"
  }
 },
 "nbformat": 4,
 "nbformat_minor": 2
}
