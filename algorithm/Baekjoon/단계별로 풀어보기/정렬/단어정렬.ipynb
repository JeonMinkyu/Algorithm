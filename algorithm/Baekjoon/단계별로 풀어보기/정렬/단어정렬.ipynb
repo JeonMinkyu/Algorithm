{
 "cells": [
  {
   "cell_type": "markdown",
   "metadata": {},
   "source": [
    "# 1181번 : 단어정렬"
   ]
  },
  {
   "cell_type": "code",
   "execution_count": 1,
   "metadata": {},
   "outputs": [],
   "source": [
    "N = 13\n",
    "dic = ['but','i','wont','hesitate','no','more','no','more','it','cannot','wait','im','yours']"
   ]
  },
  {
   "cell_type": "markdown",
   "metadata": {},
   "source": [
    "1. 우선 길이가 짧은 순으로 정렬  \n",
    "2. 길이가 같다면 사전 순으로 정렬  \n",
    "- 같은 단어가 여러 번 입력된 경우에는 한 번씩만 출력"
   ]
  },
  {
   "cell_type": "code",
   "execution_count": 2,
   "metadata": {},
   "outputs": [],
   "source": [
    "import sys\n",
    "from collections import defaultdict"
   ]
  },
  {
   "cell_type": "code",
   "execution_count": 3,
   "metadata": {},
   "outputs": [],
   "source": [
    "dic = set(dic) #중복 먼저 제거"
   ]
  },
  {
   "cell_type": "code",
   "execution_count": 4,
   "metadata": {},
   "outputs": [
    {
     "data": {
      "text/plain": [
       "{'but',\n",
       " 'cannot',\n",
       " 'hesitate',\n",
       " 'i',\n",
       " 'im',\n",
       " 'it',\n",
       " 'more',\n",
       " 'no',\n",
       " 'wait',\n",
       " 'wont',\n",
       " 'yours'}"
      ]
     },
     "execution_count": 4,
     "metadata": {},
     "output_type": "execute_result"
    }
   ],
   "source": [
    "dic"
   ]
  },
  {
   "cell_type": "code",
   "execution_count": 5,
   "metadata": {},
   "outputs": [],
   "source": [
    "alpha_dict = {}\n",
    "\n",
    "for dic_element in dic:\n",
    "    alpha_dict[dic_element] = len(dic_element)"
   ]
  },
  {
   "cell_type": "code",
   "execution_count": 6,
   "metadata": {},
   "outputs": [
    {
     "data": {
      "text/plain": [
       "{'yours': 5,\n",
       " 'but': 3,\n",
       " 'im': 2,\n",
       " 'i': 1,\n",
       " 'no': 2,\n",
       " 'hesitate': 8,\n",
       " 'it': 2,\n",
       " 'wont': 4,\n",
       " 'cannot': 6,\n",
       " 'wait': 4,\n",
       " 'more': 4}"
      ]
     },
     "execution_count": 6,
     "metadata": {},
     "output_type": "execute_result"
    }
   ],
   "source": [
    "alpha_dict"
   ]
  },
  {
   "cell_type": "code",
   "execution_count": 7,
   "metadata": {},
   "outputs": [],
   "source": [
    "sorted_len = sorted(alpha_dict.items(), key=lambda x: x[1])"
   ]
  },
  {
   "cell_type": "code",
   "execution_count": 8,
   "metadata": {},
   "outputs": [
    {
     "data": {
      "text/plain": [
       "[('i', 1),\n",
       " ('im', 2),\n",
       " ('no', 2),\n",
       " ('it', 2),\n",
       " ('but', 3),\n",
       " ('wont', 4),\n",
       " ('wait', 4),\n",
       " ('more', 4),\n",
       " ('yours', 5),\n",
       " ('cannot', 6),\n",
       " ('hesitate', 8)]"
      ]
     },
     "execution_count": 8,
     "metadata": {},
     "output_type": "execute_result"
    }
   ],
   "source": [
    "sorted_len"
   ]
  },
  {
   "cell_type": "markdown",
   "metadata": {},
   "source": [
    "위에서 이제 같은 길이인 것들을 알파벳 순으로 정렬해줘야 함 \n",
    "- 같은 길이의 word들을 묶어보자 -> how?\n",
    "- dictionary를 사용하여 sorted_len이 word : 단어 길이 였다면, sorted_alpha는 단어 길이 : word(list형태)로 표현할 수 있음"
   ]
  },
  {
   "cell_type": "code",
   "execution_count": 9,
   "metadata": {},
   "outputs": [],
   "source": [
    "sorted_alpha = defaultdict(lambda : -1)"
   ]
  },
  {
   "cell_type": "code",
   "execution_count": 10,
   "metadata": {},
   "outputs": [],
   "source": [
    "for (word,length) in sorted_len:\n",
    "    if sorted_alpha[length] == -1:\n",
    "        sorted_alpha[length] = [word]\n",
    "    else:\n",
    "        sorted_alpha[length].append(word)"
   ]
  },
  {
   "cell_type": "code",
   "execution_count": 11,
   "metadata": {},
   "outputs": [],
   "source": [
    "for (length,word) in sorted_alpha.items():\n",
    "    if len(word)>1:\n",
    "        sorted_alpha[length] = sorted(word)"
   ]
  },
  {
   "cell_type": "code",
   "execution_count": 12,
   "metadata": {},
   "outputs": [
    {
     "name": "stdout",
     "output_type": "stream",
     "text": [
      "i\n",
      "im\n",
      "it\n",
      "no\n",
      "but\n",
      "more\n",
      "wait\n",
      "wont\n",
      "yours\n",
      "cannot\n",
      "hesitate\n"
     ]
    }
   ],
   "source": [
    "for word in sorted_alpha.values():\n",
    "    for w in word:\n",
    "        print(w)"
   ]
  }
 ],
 "metadata": {
  "kernelspec": {
   "display_name": "Python 3",
   "language": "python",
   "name": "python3"
  },
  "language_info": {
   "codemirror_mode": {
    "name": "ipython",
    "version": 3
   },
   "file_extension": ".py",
   "mimetype": "text/x-python",
   "name": "python",
   "nbconvert_exporter": "python",
   "pygments_lexer": "ipython3",
   "version": "3.7.4"
  }
 },
 "nbformat": 4,
 "nbformat_minor": 4
}
