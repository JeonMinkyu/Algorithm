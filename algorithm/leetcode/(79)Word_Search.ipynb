{
 "cells": [
  {
   "cell_type": "code",
   "execution_count": 1,
   "metadata": {},
   "outputs": [],
   "source": [
    "#input = [0,0,0,0,0,1,1,1,1,1]\n",
    "#input = [0,0,0,0,1,1,1,1,1,1]\n",
    "#input = [1,1,2,2,2,2]\n",
    "input = [1,1,1,2,2,2,3,3]"
   ]
  },
  {
   "cell_type": "code",
   "execution_count": 2,
   "metadata": {},
   "outputs": [],
   "source": [
    "class Solution:\n",
    "    def hasGroupsSizeX(self, deck):\n",
    "        import collections\n",
    "        dic = collections.Counter(deck)\n",
    "        \n",
    "        min = 100000\n",
    "        for i in dic.values():\n",
    "            if i<min:\n",
    "                min = i        \n",
    "                \n",
    "        if min < 2:\n",
    "            return False\n",
    "        for i in range(min,1,-1):\n",
    "            flag = all(value % i ==0 for value in dic.values())\n",
    "            if flag:\n",
    "                return True\n",
    "        return False"
   ]
  },
  {
   "cell_type": "code",
   "execution_count": 3,
   "metadata": {},
   "outputs": [
    {
     "data": {
      "text/plain": [
       "False"
      ]
     },
     "execution_count": 3,
     "metadata": {},
     "output_type": "execute_result"
    }
   ],
   "source": [
    "sol = Solution()\n",
    "sol.hasGroupsSizeX(input)"
   ]
  },
  {
   "cell_type": "code",
   "execution_count": null,
   "metadata": {},
   "outputs": [],
   "source": []
  }
 ],
 "metadata": {
  "kernelspec": {
   "display_name": "Python 3",
   "language": "python",
   "name": "python3"
  },
  "language_info": {
   "codemirror_mode": {
    "name": "ipython",
    "version": 3
   },
   "file_extension": ".py",
   "mimetype": "text/x-python",
   "name": "python",
   "nbconvert_exporter": "python",
   "pygments_lexer": "ipython3",
   "version": "3.6.7"
  }
 },
 "nbformat": 4,
 "nbformat_minor": 2
}
