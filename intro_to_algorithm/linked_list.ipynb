{
 "cells": [
  {
   "cell_type": "markdown",
   "metadata": {},
   "source": [
    "# Single Linked List"
   ]
  },
  {
   "cell_type": "code",
   "execution_count": 1,
   "metadata": {},
   "outputs": [],
   "source": [
    "class Node:\n",
    "    def __init__(self, val=0, node_next='', ishead=False, istail=False):\n",
    "        self.val = val\n",
    "        self.node_next = node_next\n",
    "        self.ishead = ishead\n",
    "        self.istail = istail\n",
    "        \n",
    "    def get_value(self):\n",
    "        return self.val\n",
    "    \n",
    "    def set_value(self):\n",
    "        self.val = val\n",
    "        \n",
    "    def get_next(self):\n",
    "        return self.node_next\n",
    "    \n",
    "    def set_next(self, node_next):\n",
    "        self.node_next = node_next\n",
    "    \n",
    "    def isHead(self):\n",
    "        return self.ishead\n",
    "    \n",
    "    def isTail(self):\n",
    "        return self.istail"
   ]
  },
  {
   "cell_type": "code",
   "execution_count": 2,
   "metadata": {},
   "outputs": [],
   "source": [
    "class SinglyLinkedList:\n",
    "    size=0\n",
    "    def __init__(self):\n",
    "        #define head, tail\n",
    "        \n",
    "        self.tail = Node(istail=True)\n",
    "        self.head = Node(ishead=True, node_next = self.tail)\n",
    "        \n",
    "    def get_val(self,val_idx):\n",
    "        node_val = self.head\n",
    "        for i in range(val_idx+1):\n",
    "            node_val = node_val.get_next()\n",
    "        return node_val\n",
    "    \n",
    "    def insert_func(self, val_to_insert, idx_to_insert):\n",
    "        new_node = Node(val=val_to_insert)\n",
    "        prev_node = self.get_val(idx_to_insert-1)\n",
    "        next_node = prev_node.get_next()\n",
    "        prev_node.set_next(new_node)\n",
    "        new_node.set_next(next_node)\n",
    "        self.size = self.size+1\n",
    "\n",
    "    def remove_func(self, idx_to_remove):\n",
    "        prev_node = self.get_val(idx_to_remove-1)\n",
    "        remove_node = prev_node.get_next()\n",
    "        next_node = prev_node.get_next()\n",
    "        prev_node.set_next(next_node)\n",
    "        self.size = self.size-1\n",
    "        return remove_node.get_value()\n",
    "    \n",
    "    def print_list(self):\n",
    "        current_node = self.head\n",
    "        while current_node.get_next().isTail() == False:\n",
    "            current_node = current_node.get_next()\n",
    "            print(current_node.get_value(), end=\" \")\n",
    "        print(\"\")\n",
    "                \n",
    "    def get_size(self):\n",
    "        return self.size"
   ]
  },
  {
   "cell_type": "code",
   "execution_count": 3,
   "metadata": {},
   "outputs": [
    {
     "name": "stdout",
     "output_type": "stream",
     "text": [
      "a b d e f \n"
     ]
    }
   ],
   "source": [
    "list1 = SinglyLinkedList()\n",
    "list1.insert_func('a',0)\n",
    "list1.insert_func('b',1)\n",
    "list1.insert_func('d',2)\n",
    "list1.insert_func('e',3)\n",
    "list1.insert_func('f',4)\n",
    "list1.print_list()"
   ]
  },
  {
   "cell_type": "code",
   "execution_count": 4,
   "metadata": {},
   "outputs": [
    {
     "name": "stdout",
     "output_type": "stream",
     "text": [
      "a b c d e f \n"
     ]
    }
   ],
   "source": [
    "list1.insert_func('c',2)\n",
    "list1.print_list()"
   ]
  },
  {
   "cell_type": "code",
   "execution_count": 5,
   "metadata": {},
   "outputs": [
    {
     "name": "stdout",
     "output_type": "stream",
     "text": [
      "a b c d e f \n"
     ]
    }
   ],
   "source": [
    "list1.remove_func(3)\n",
    "list1.print_list()"
   ]
  },
  {
   "cell_type": "code",
   "execution_count": null,
   "metadata": {},
   "outputs": [],
   "source": []
  },
  {
   "cell_type": "code",
   "execution_count": null,
   "metadata": {},
   "outputs": [],
   "source": []
  }
 ],
 "metadata": {
  "kernelspec": {
   "display_name": "Python 3",
   "language": "python",
   "name": "python3"
  },
  "language_info": {
   "codemirror_mode": {
    "name": "ipython",
    "version": 3
   },
   "file_extension": ".py",
   "mimetype": "text/x-python",
   "name": "python",
   "nbconvert_exporter": "python",
   "pygments_lexer": "ipython3",
   "version": "3.7.4"
  }
 },
 "nbformat": 4,
 "nbformat_minor": 4
}
